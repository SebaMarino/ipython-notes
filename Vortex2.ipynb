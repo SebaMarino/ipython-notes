{
 "metadata": {
  "name": "",
  "signature": "sha256:72527b1de1b4674f88068463a64a8dc7a648e19bd356e55cea10fda5491d56dc"
 },
 "nbformat": 3,
 "nbformat_minor": 0,
 "worksheets": [
  {
   "cells": [
    {
     "cell_type": "heading",
     "level": 1,
     "metadata": {},
     "source": [
      "Disk Vortex by Seba"
     ]
    },
    {
     "cell_type": "heading",
     "level": 5,
     "metadata": {},
     "source": [
      "$$ \\begin{align} \n",
      "x &=& acos(\\nu) \\\\\n",
      " y&=& a\\chi sin(\\nu) \\\\\n",
      " f(\\chi) &=& 2\\omega_{v}\\chi - \\xi^{-1}_{+} (2\\omega_{v}^{2}+3) \\\\\n",
      " \\xi_{\\pm} &=& 1 \\pm \\chi^{-2} \n",
      "\\end{align} $$"
     ]
    },
    {
     "cell_type": "heading",
     "level": 4,
     "metadata": {},
     "source": [
      "$$ \\rho(a,z) = \\varepsilon \\rho_{0} (S+1)^{3/2} exp \\left\\{ - \\frac{[a^{2} f^{2}(\\chi)+z^{2}]}{2H^{2}}(S+1)  \\right\\}  $$"
     ]
    },
    {
     "cell_type": "code",
     "collapsed": false,
     "input": [
      "%matplotlib inline\n",
      "import numpy as np\n",
      "import matplotlib.pyplot as plt \n",
      "import math as ma"
     ],
     "language": "python",
     "metadata": {},
     "outputs": [],
     "prompt_number": 117
    },
    {
     "cell_type": "code",
     "collapsed": false,
     "input": [
      "def rho_1(a,zi,ep,rho_0,S,chi,H,f_chi):\n",
      "        \n",
      "    return   ep*rho_0*(S+1)**1.5*ma.exp( - ( (a*f_chi)**2.0  + zi**2.0)*(S+1)/(2*H**2.0))\n",
      "    \n",
      "def Phi(xi,yi):\n",
      "\n",
      "    # 1st quadrant\n",
      "    if xi>0.0 and yi>=0.0:\n",
      "        return ma.atan(yi/xi)\n",
      "    \n",
      "    if xi==0.0 and yi>=0.0: return ma.pi/2.0\n",
      "    \n",
      "    # 2nd quadrant\n",
      "    if xi<0.0 and yi>=0.0:\n",
      "        return ma.pi+ma.atan(yi/xi)\n",
      "\n",
      "    # 3rd quadrant\n",
      "    if xi<0.0 and yi<0.0:\n",
      "        return -ma.pi+ma.atan(yi/xi)\n",
      "    \n",
      "    if xi==0.0 and yi<0.0: return -ma.pi/2.0\n",
      "    \n",
      "    # 4th quadrant\n",
      "    if xi>0.0 and yi<0.0:\n",
      "        return ma.atan(yi/xi)\n",
      "\"\"\"\n",
      "x     =    a*cos(nu)         elliptical coordinate (minor axis) \n",
      "y     =    a*chi*sin(nu)     elliptical coordinate  (mayor axis)\n",
      "a     =                      vortex semi-minor axis\n",
      "rho_0 =                      rho_gas,max\n",
      "ep    =                      dust-to-gas ratio (global)\n",
      "chi   =                      Vortex aspect ratio  (>1)\n",
      "H     =   c_s/Omega          Sonic scale or gas scale height  \n",
      "D     =   D=delta*c_s*H      Dust difussion coeficient \n",
      "S     =   St/delta           Dimensionless number where St is the stoke number and delta is the dimensionless difussion parameter\n",
      "w_v   =   Omega_v/Omega      Dimensionless vortex frequency                   \n",
      "a     =                      vortex semi-minor axis \n",
      "\"\"\"\n",
      "#------------ MAIN\n",
      "    \n",
      "\n",
      "N=51 # N odd\n",
      "Nz=25\n",
      "ep    =  0.01\n",
      "rho_0 =  100.0\n",
      "S     =  1.0\n",
      "chi   =  4.0\n",
      "w_v   =  2.0\n",
      "\n",
      "xi_p  = 1.0 + chi**(-2.0)\n",
      "f_chi = 2.0*w_v*chi - (2.0*w_v**2.0 + 3.0)/xi_p\n",
      "\n",
      "print 'f(chi) = %f ' % f_chi\n",
      "\n",
      "scale_h = 0.5  # H/r = scale_h\n",
      "\n",
      "r_0=5 #au position of the vortex center\n",
      "\n",
      "\n",
      "\n",
      "rho_el=np.zeros((N,N,Nz))\n",
      "x=np.zeros(N)\n",
      "y=np.zeros(N)\n",
      "z=np.zeros(N)\n",
      "\n",
      "dx, dy = 3.0/N, 3.0/N  # xmin,xmax = 9.5,10.5 au\n",
      "dz=dx   # Deltaz = 0.5 au\n",
      "\n",
      "for i in range(N):\n",
      "    for j in range(N):\n",
      "        for k in range(Nz):\n",
      "            \n",
      "            x[i] = (i-(N-1)/2)*dx\n",
      "            y[j] = (j-(N-1)/2)*dy\n",
      "            z[k] = (k-(Nz-1)/2)*dz\n",
      "            H=scale_h*(r_0+x[i])\n",
      "            a = ma.sqrt(x[i]**2.0+(y[j]/chi)**2.0)\n",
      "               \n",
      "            rho_el[j,i,k] =  rho_1(a,z[k],ep,rho_0,S,chi,H,f_chi)\n",
      "                 "
     ],
     "language": "python",
     "metadata": {},
     "outputs": [
      {
       "output_type": "stream",
       "stream": "stdout",
       "text": [
        "f(chi) = 5.647059 \n"
       ]
      }
     ],
     "prompt_number": 235
    },
    {
     "cell_type": "code",
     "collapsed": false,
     "input": [
      "# Plot\n",
      "plt.figure(figsize=(5,4)) \n",
      "plt.pcolor(x,y,rho_el[:,:,(Nz-1)/2.0])  # z=0\n",
      "plt.xlim(x[0],x[N-1])\n",
      "plt.ylim(y[0],y[N-1])\n",
      "plt.xlabel('x')\n",
      "plt.ylabel('y')\n",
      "plt.colorbar()"
     ],
     "language": "python",
     "metadata": {},
     "outputs": [
      {
       "metadata": {},
       "output_type": "pyout",
       "prompt_number": 237,
       "text": [
        "<matplotlib.colorbar.Colorbar instance at 0x12d07b2d8>"
       ]
      },
      {
       "metadata": {},
       "output_type": "display_data",
       "png": "[encoded data removed]",
       "text": [
        "<matplotlib.figure.Figure at 0x15732dd50>"
       ]
      }
     ],
     "prompt_number": 237
    },
    {
     "cell_type": "heading",
     "level": 3,
     "metadata": {},
     "source": [
      "$$ \\begin{align} \n",
      "x & = & r-r_{0} \\\\  \n",
      "y & = & r\\theta \\\\\n",
      "u & = & rcos(\\theta) \\\\\n",
      "v & = & rsin(\\theta)  \\\\\n",
      "\n",
      "x&=&\\sqrt{u^2+v^2}-r_{0} \\\\\n",
      "y&=& r tan^-1(v/u)\n",
      "\\end{align} $$"
     ]
    },
    {
     "cell_type": "code",
     "collapsed": false,
     "input": [
      "M=301\n",
      "u=np.zeros(M)\n",
      "v=np.zeros(M)\n",
      "\n",
      "du=dv = 4.0*r_0/M\n",
      "\n",
      "rho_disk=np.zeros((M,M))\n",
      "for i in range(M):\n",
      "    for j in range(M):\n",
      "        u[i] = (i-(M-1)/2)*du\n",
      "        v[j] = (j-(M-1)/2)*dv\n",
      "        r=ma.sqrt(u[i]**2.0+v[j]**2.0)\n",
      "        theta=Phi(u[i],v[j])\n",
      "        xj=r-r_0\n",
      "        yj=r*theta\n",
      "        H=scale_h*r\n",
      "        a = ma.sqrt(xj**2.0+(yj/chi)**2.0)\n",
      "\n",
      "        if r>0.0: rho_disk[j,i]=rho_1(a,0.0,ep,rho_0,S,chi,H,f_chi)\n",
      "\n",
      "        \n",
      "plt.figure(figsize=(8,6)) \n",
      "plt.pcolor(u,v,rho_disk)\n",
      "plt.xlim(u[0],u[M-1])\n",
      "plt.ylim(v[0],v[M-1])\n",
      "plt.xlabel('u')\n",
      "plt.ylabel('v')\n",
      "plt.colorbar()     "
     ],
     "language": "python",
     "metadata": {},
     "outputs": [
      {
       "metadata": {},
       "output_type": "pyout",
       "prompt_number": 239,
       "text": [
        "<matplotlib.colorbar.Colorbar instance at 0x15577b638>"
       ]
      },
      {
       "metadata": {},
       "output_type": "display_data",
       "png": "[encoded data removed]",
       "text": [
        "<matplotlib.figure.Figure at 0x12f23de10>"
       ]
      }
     ],
     "prompt_number": 239
    },
    {
     "cell_type": "code",
     "collapsed": false,
     "input": [
      "rho_profile=np.zeros((N,2))\n",
      "for i in range(N):\n",
      "    x[i] = i*dx\n",
      "    a = ma.sqrt(x[i]**2.0)   \n",
      "    H=scale_h*(r_0+x[i])\n",
      "\n",
      "    rho_profile[i,0] = a*f_chi/H\n",
      "    rho_profile[i,1] =  rho_1(a,0.0,ep,rho_0,S,chi,H,f_chi)\n",
      "\n",
      "plt.plot(rho_profile[:,0],rho_profile[:,1])\n",
      "plt.xlabel(r'$a/H_{g}$')\n",
      "plt.ylabel(r'$\\rho_{d} (a)$')\n",
      "plt.yscale('log')"
     ],
     "language": "python",
     "metadata": {},
     "outputs": [
      {
       "metadata": {},
       "output_type": "display_data",
       "png": "[encoded data removed]",
       "text": [
        "<matplotlib.figure.Figure at 0x12f231bd0>"
       ]
      }
     ],
     "prompt_number": 241
    },
    {
     "cell_type": "code",
     "collapsed": false,
     "input": [],
     "language": "python",
     "metadata": {},
     "outputs": []
    }
   ],
   "metadata": {}
  }
 ]
}